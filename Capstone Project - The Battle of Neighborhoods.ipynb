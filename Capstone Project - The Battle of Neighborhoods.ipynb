{
 "cells": [
  {
   "cell_type": "markdown",
   "metadata": {},
   "source": [
    "# Market research for opening restaurant in Toronto"
   ]
  },
  {
   "cell_type": "markdown",
   "metadata": {},
   "source": [
    "### Introduction/Business Problem"
   ]
  },
  {
   "cell_type": "markdown",
   "metadata": {},
   "source": [
    "Toronto along with being the financial capital of Canada and a city of great diversity is the provincial capital of Ontario and the most populous city in Canada. With a population of 2.7 million, and 6 million within the Greater Toronto Area, Toronto offers an interesting market for the restaurant business. The aim of this study is to determine which kind of restaurant to open there and to find a suitable location for doing so.\n",
    "\n",
    "The type of restaurant to be opened will be the type of restaurant which has the highest average evaluation among Foursquare users. Based on this decision a suitable location for the new restaurant will be sought by looking for the neighborhood which best meets the following criteria:\n",
    "\n",
    "1. Currently doesn't contain the selected type of restaurant (inorder to avoid unnecessary competition)\n",
    "2. The neighborhoods current restaurants have low ratings (inorder to find competition easier to beat) \n",
    "3. The number of restaurants in the neighborhood is rather large than small (the number of restaurants is used as a proxy for the number of potential customers, locations with high numbers of restaurants should also be rich with potential clients)"
   ]
  },
  {
   "cell_type": "markdown",
   "metadata": {},
   "source": [
    "### Data"
   ]
  },
  {
   "cell_type": "markdown",
   "metadata": {},
   "source": [
    "The project will be based on Foursquare data drawn from its API in combination with Toronto's postal codes and their geospatial coordinates. The postal codes will be read from Wikipedia and their coordinates will be obtained via Geocoder Python. From the Foursquare data the descriptions, user ratings and location data will be used. This data will be joined with the postal code data to classify the locations with their neighborhoods.\n",
    "\n",
    "From the compiled data the first step is to identify the type of restaurant with the highest rating. With this done the next step is to identify the neighborhoods which currently do not have this type of restaurant. The following step is to evaluate these neighborhoods based on the average scores of the restuarants and the total number of restaurants within each neighborhood and then deciding on which neighborhood to choose. The possibly final step is classifying the neighborhoods restaurants into clusters based on their locations, and from these clusters choosing a more specific location for opening the restaurant (based on the intra-cluster ratings of the restaurants).\n"
   ]
  }
 ],
 "metadata": {
  "kernelspec": {
   "display_name": "Python 3",
   "language": "python",
   "name": "python3"
  },
  "language_info": {
   "codemirror_mode": {
    "name": "ipython",
    "version": 3
   },
   "file_extension": ".py",
   "mimetype": "text/x-python",
   "name": "python",
   "nbconvert_exporter": "python",
   "pygments_lexer": "ipython3",
   "version": "3.7.6"
  }
 },
 "nbformat": 4,
 "nbformat_minor": 4
}
